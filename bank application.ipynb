{
 "cells": [
  {
   "cell_type": "code",
   "execution_count": 4,
   "metadata": {},
   "outputs": [],
   "source": [
    "#menu\n",
    "#1.login\n",
    "#2.singup\n",
    "#3.deposit\n",
    "#4.withdraw\n",
    "#5.exit\n",
    "choice=int(input('enter your choice'))\n"
   ]
  },
  {
   "cell_type": "code",
   "execution_count": 3,
   "metadata": {},
   "outputs": [
    {
     "data": {
      "text/plain": [
       "{101: {'name': 'ram kumar',\n",
       "  'username': 'kumar@ram',\n",
       "  'password': '123ram',\n",
       "  'balance': 10000},\n",
       " 102: {'name': 'shyam kumar',\n",
       "  'username': 'kumar@shyam',\n",
       "  'password': '123shyam',\n",
       "  'balance': 10000},\n",
       " 103: {'name': 'mohan kumar',\n",
       "  'username': 'kumar@mohan',\n",
       "  'password': '123mohan',\n",
       "  'balance': 10000}}"
      ]
     },
     "execution_count": 3,
     "metadata": {},
     "output_type": "execute_result"
    }
   ],
   "source": [
    "user={101:{'name':'ram kumar','username':'kumar@ram','password':'123ram','balance':10000},\n",
    "      102:{'name':'shyam kumar','username':'kumar@shyam','password':'123shyam','balance':10000}}\n",
    "user[103]={'name':'mohan kumar','username':'kumar@mohan','password':'123mohan','balance':10000}\n",
    "user"
   ]
  },
  {
   "cell_type": "code",
   "execution_count": 22,
   "metadata": {},
   "outputs": [],
   "source": [
    "#user[101]['name']=='ram kumar'\n",
    "def login(accno,username,password):\n",
    "    flag=False\n",
    "    if user[accno]['username']==username:\n",
    "        flag = True\n",
    "    else : \n",
    "        flag = False\n",
    "    return flag\n",
    "        \n",
    "        \n",
    "    \n",
    "\n",
    "    \n"
   ]
  },
  {
   "cell_type": "code",
   "execution_count": 25,
   "metadata": {},
   "outputs": [
    {
     "data": {
      "text/plain": [
       "False"
      ]
     },
     "execution_count": 25,
     "metadata": {},
     "output_type": "execute_result"
    }
   ],
   "source": [
    "login(102,'sachin','redhat')"
   ]
  },
  {
   "cell_type": "code",
   "execution_count": 26,
   "metadata": {},
   "outputs": [
    {
     "data": {
      "text/plain": [
       "True"
      ]
     },
     "execution_count": 26,
     "metadata": {},
     "output_type": "execute_result"
    }
   ],
   "source": [
    "login(101,'kumar@ram','123ram')"
   ]
  },
  {
   "cell_type": "code",
   "execution_count": 1,
   "metadata": {},
   "outputs": [],
   "source": [
    "def login(accno,username,password):\n",
    "    if accno in user:\n",
    "        flag=False\n",
    "        if user[accno]['username']==username and user[accno]['password']==password:\n",
    "            flag = True\n",
    "        else : \n",
    "            flag = False\n",
    "        if flag:\n",
    "            print('valid user')\n",
    "        else:\n",
    "            print('invalid user')  \n",
    "    else:\n",
    "        print(\"you are not that bank customer\")\n",
    "        \n",
    "    \n",
    "     \n",
    "        \n",
    "        "
   ]
  },
  {
   "cell_type": "code",
   "execution_count": 7,
   "metadata": {},
   "outputs": [
    {
     "name": "stdout",
     "output_type": "stream",
     "text": [
      "valid user\n"
     ]
    }
   ],
   "source": [
    "login(101,'kumar@ram','123ram')"
   ]
  },
  {
   "cell_type": "code",
   "execution_count": 8,
   "metadata": {},
   "outputs": [
    {
     "data": {
      "text/plain": [
       "{101: {'name': 'ram kumar',\n",
       "  'username': 'kumar@ram',\n",
       "  'password': '123ram',\n",
       "  'balance': 10000},\n",
       " 102: {'name': 'shyam kumar',\n",
       "  'username': 'kumar@shyam',\n",
       "  'password': '123shyam',\n",
       "  'balance': 10000},\n",
       " 103: {'name': 'mohan kumar',\n",
       "  'username': 'kumar@mohan',\n",
       "  'password': '123mohan',\n",
       "  'balance': 10000},\n",
       " 104: {'name': 'ramesh kumar',\n",
       "  'username': 'kumar@ramesh',\n",
       "  'password': '123ramesh',\n",
       "  'balance': 0}}"
      ]
     },
     "execution_count": 8,
     "metadata": {},
     "output_type": "execute_result"
    }
   ],
   "source": [
    "def singup(accno,name,username,password,amount=0):\n",
    "    user[accno]={'name':name,'username':username,'password':password,'balance':amount}\n",
    "    return 'now you are custome of this bank'\n",
    "\n",
    "singup(104,'ramesh kumar','kumar@ramesh','123ramesh')\n",
    "    \n",
    "\n",
    "user\n",
    "    \n",
    "    \n",
    "    "
   ]
  },
  {
   "cell_type": "code",
   "execution_count": 9,
   "metadata": {},
   "outputs": [
    {
     "ename": "KeyError",
     "evalue": "104",
     "output_type": "error",
     "traceback": [
      "\u001b[1;31m---------------------------------------------------------------------------\u001b[0m",
      "\u001b[1;31mKeyError\u001b[0m                                  Traceback (most recent call last)",
      "\u001b[1;32m<ipython-input-9-9ddcef7fda57>\u001b[0m in \u001b[0;36m<module>\u001b[1;34m()\u001b[0m\n\u001b[1;32m----> 1\u001b[1;33m \u001b[0msingup\u001b[0m\u001b[1;33m(\u001b[0m\u001b[1;36m104\u001b[0m\u001b[1;33m,\u001b[0m\u001b[1;34m'rakesh kumar'\u001b[0m\u001b[1;33m,\u001b[0m\u001b[1;34m'kumar@rakesh'\u001b[0m\u001b[1;33m,\u001b[0m\u001b[1;34m'123rakesh'\u001b[0m\u001b[1;33m)\u001b[0m\u001b[1;33m\u001b[0m\u001b[0m\n\u001b[0m",
      "\u001b[1;32m<ipython-input-8-0561e57780dc>\u001b[0m in \u001b[0;36msingup\u001b[1;34m(accno, name, username, password, amount)\u001b[0m\n\u001b[0;32m      1\u001b[0m \u001b[1;32mdef\u001b[0m \u001b[0msingup\u001b[0m\u001b[1;33m(\u001b[0m\u001b[0maccno\u001b[0m\u001b[1;33m,\u001b[0m\u001b[0mname\u001b[0m\u001b[1;33m,\u001b[0m\u001b[0musername\u001b[0m\u001b[1;33m,\u001b[0m\u001b[0mpassword\u001b[0m\u001b[1;33m,\u001b[0m\u001b[0mamount\u001b[0m\u001b[1;33m=\u001b[0m\u001b[1;36m0\u001b[0m\u001b[1;33m)\u001b[0m\u001b[1;33m:\u001b[0m\u001b[1;33m\u001b[0m\u001b[0m\n\u001b[1;32m----> 2\u001b[1;33m     \u001b[0muser\u001b[0m\u001b[1;33m[\u001b[0m\u001b[0maccno\u001b[0m\u001b[1;33m]\u001b[0m\u001b[1;33m[\u001b[0m\u001b[1;34m'name'\u001b[0m\u001b[1;33m]\u001b[0m\u001b[1;33m[\u001b[0m\u001b[1;34m'username'\u001b[0m\u001b[1;33m]\u001b[0m\u001b[1;33m[\u001b[0m\u001b[1;34m'password'\u001b[0m\u001b[1;33m]\u001b[0m\u001b[1;33m[\u001b[0m\u001b[1;34m'amount'\u001b[0m\u001b[1;33m]\u001b[0m\u001b[1;33m\u001b[0m\u001b[0m\n\u001b[0m\u001b[0;32m      3\u001b[0m \u001b[1;33m\u001b[0m\u001b[0m\n",
      "\u001b[1;31mKeyError\u001b[0m: 104"
     ]
    }
   ],
   "source": [
    "singup(104,'rakesh kumar','kumar@rakesh','123rakesh')"
   ]
  },
  {
   "cell_type": "code",
   "execution_count": 24,
   "metadata": {},
   "outputs": [],
   "source": [
    "#data.update([['age',20],['color','red']])\n",
    "def deposit(acno,amount=0):\n",
    "    amt=user[acno]['balance']\n",
    "    total=amt+amount\n",
    "    user[acno]['balance']=total\n",
    "    \n",
    "    "
   ]
  },
  {
   "cell_type": "code",
   "execution_count": 26,
   "metadata": {},
   "outputs": [
    {
     "data": {
      "text/plain": [
       "{101: {'name': 'ram kumar',\n",
       "  'username': 'kumar@ram',\n",
       "  'password': '123ram',\n",
       "  'balance': 12000},\n",
       " 102: {'name': 'shyam kumar',\n",
       "  'username': 'kumar@shyam',\n",
       "  'password': '123shyam',\n",
       "  'balance': 10000},\n",
       " 103: {'name': 'mohan kumar',\n",
       "  'username': 'kumar@mohan',\n",
       "  'password': '123mohan',\n",
       "  'balance': 10000}}"
      ]
     },
     "execution_count": 26,
     "metadata": {},
     "output_type": "execute_result"
    }
   ],
   "source": [
    "deposit(101,1000)\n",
    "user"
   ]
  },
  {
   "cell_type": "code",
   "execution_count": 31,
   "metadata": {},
   "outputs": [
    {
     "name": "stdout",
     "output_type": "stream",
     "text": [
      "101000\n"
     ]
    }
   ],
   "source": [
    "deposit(102,1000)"
   ]
  },
  {
   "cell_type": "code",
   "execution_count": 2,
   "metadata": {},
   "outputs": [],
   "source": [
    "def withdraw(acno,amount):\n",
    "    amt=user[acno]['balance']\n",
    "    print(amt)\n",
    "    if (amount>=amt):\n",
    "        user[acno]['balance']=(amt-amount)\n",
    "    else:\n",
    "        print('insufficent balance')\n",
    "        \n",
    "    \n",
    "    "
   ]
  },
  {
   "cell_type": "code",
   "execution_count": 5,
   "metadata": {},
   "outputs": [
    {
     "name": "stdout",
     "output_type": "stream",
     "text": [
      "10000\n"
     ]
    },
    {
     "data": {
      "text/plain": [
       "{101: {'name': 'ram kumar',\n",
       "  'username': 'kumar@ram',\n",
       "  'password': '123ram',\n",
       "  'balance': 10000},\n",
       " 102: {'name': 'shyam kumar',\n",
       "  'username': 'kumar@shyam',\n",
       "  'password': '123shyam',\n",
       "  'balance': -2000},\n",
       " 103: {'name': 'mohan kumar',\n",
       "  'username': 'kumar@mohan',\n",
       "  'password': '123mohan',\n",
       "  'balance': 10000}}"
      ]
     },
     "execution_count": 5,
     "metadata": {},
     "output_type": "execute_result"
    }
   ],
   "source": [
    "withdraw(102,12000)\n",
    "user"
   ]
  },
  {
   "cell_type": "code",
   "execution_count": null,
   "metadata": {},
   "outputs": [],
   "source": []
  }
 ],
 "metadata": {
  "kernelspec": {
   "display_name": "Python 3",
   "language": "python",
   "name": "python3"
  },
  "language_info": {
   "codemirror_mode": {
    "name": "ipython",
    "version": 3
   },
   "file_extension": ".py",
   "mimetype": "text/x-python",
   "name": "python",
   "nbconvert_exporter": "python",
   "pygments_lexer": "ipython3",
   "version": "3.6.5"
  }
 },
 "nbformat": 4,
 "nbformat_minor": 2
}
